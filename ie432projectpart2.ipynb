{
  "nbformat": 4,
  "nbformat_minor": 0,
  "metadata": {
    "colab": {
      "provenance": []
    },
    "kernelspec": {
      "name": "python3",
      "display_name": "Python 3"
    },
    "language_info": {
      "name": "python"
    }
  },
  "cells": [
    {
      "cell_type": "code",
      "execution_count": null,
      "metadata": {
        "id": "18-PbHFKnSC7"
      },
      "outputs": [],
      "source": [
        "import numpy as np\n",
        "from scipy.stats import rv_discrete\n",
        "import matplotlib.pyplot as plt\n",
        "from mpl_toolkits.mplot3d import Axes3D"
      ]
    },
    {
      "cell_type": "code",
      "source": [
        "x1 = np.arange(30,80,10)\n",
        "x2 = np.arange(30,80,10)\n",
        "P_x = 0.2*(np.ones(5))\n",
        "X1 = rv_discrete(name='X1', values=(x1, P_x))\n",
        "X2 = rv_discrete(name='X2', values=(x2, P_x))\n",
        "P_x_3 = np.array([0.04,0.08,0.12,0.16,0.20,0.16,0.12,0.08,0.04])\n",
        "x3_list = []\n",
        "for i in x1:\n",
        "  for j in x2:\n",
        "    if i+j not in x3_list:\n",
        "      x3_list.append(i+j)\n",
        "x3 = np.array(x3_list)\n",
        "x3 = x3.flatten()\n",
        "X3 = rv_discrete(name='X3', values=(x3, P_x_3))"
      ],
      "metadata": {
        "id": "XkQOhv0mnh6c"
      },
      "execution_count": null,
      "outputs": []
    },
    {
      "cell_type": "code",
      "source": [
        "print(P_x.reshape(-1, 1))\n",
        "print(P_x.reshape(1, -1))\n",
        "print(P_x.reshape(-1, 1) * P_x.reshape(1, -1))"
      ],
      "metadata": {
        "colab": {
          "base_uri": "https://localhost:8080/"
        },
        "id": "335OMaA-h1Ka",
        "outputId": "39932249-f7bb-4441-e805-3b5a0be89491"
      },
      "execution_count": null,
      "outputs": [
        {
          "output_type": "stream",
          "name": "stdout",
          "text": [
            "[[0.2]\n",
            " [0.2]\n",
            " [0.2]\n",
            " [0.2]\n",
            " [0.2]]\n",
            "[[0.2 0.2 0.2 0.2 0.2]]\n",
            "[[0.04 0.04 0.04 0.04 0.04]\n",
            " [0.04 0.04 0.04 0.04 0.04]\n",
            " [0.04 0.04 0.04 0.04 0.04]\n",
            " [0.04 0.04 0.04 0.04 0.04]\n",
            " [0.04 0.04 0.04 0.04 0.04]]\n"
          ]
        }
      ]
    },
    {
      "cell_type": "code",
      "source": [
        "def cdf():\n",
        "    prob_matrix = P_x.reshape(-1, 1) * P_x.reshape(1, -1)\n",
        "    cdf_value_list = []\n",
        "    for i, val1 in enumerate(x1):\n",
        "        for j, val2 in enumerate(x2):\n",
        "            cdf_value = 0\n",
        "            for index1 in range(i+1):\n",
        "                for index2 in range(j+1):\n",
        "                    cdf_value += prob_matrix[index1][index2]\n",
        "            cdf_value_list.append(cdf_value)\n",
        "    return cdf_value_list\n",
        "\n",
        "cdf()\n",
        "\n"
      ],
      "metadata": {
        "colab": {
          "base_uri": "https://localhost:8080/"
        },
        "id": "0vHVztt6Q5Lh",
        "outputId": "99502282-cdb8-45a6-f40b-242f51a8dd2f"
      },
      "execution_count": null,
      "outputs": [
        {
          "output_type": "execute_result",
          "data": {
            "text/plain": [
              "[0.04000000000000001,\n",
              " 0.08000000000000002,\n",
              " 0.12000000000000002,\n",
              " 0.16000000000000003,\n",
              " 0.20000000000000004,\n",
              " 0.08000000000000002,\n",
              " 0.16000000000000003,\n",
              " 0.24000000000000005,\n",
              " 0.32000000000000006,\n",
              " 0.40000000000000013,\n",
              " 0.12000000000000002,\n",
              " 0.24000000000000005,\n",
              " 0.3600000000000001,\n",
              " 0.4800000000000002,\n",
              " 0.6000000000000003,\n",
              " 0.16000000000000003,\n",
              " 0.32000000000000006,\n",
              " 0.4800000000000002,\n",
              " 0.6400000000000003,\n",
              " 0.8000000000000005,\n",
              " 0.20000000000000004,\n",
              " 0.40000000000000013,\n",
              " 0.6000000000000003,\n",
              " 0.8000000000000005,\n",
              " 1.0000000000000007]"
            ]
          },
          "metadata": {},
          "execution_count": 4
        }
      ]
    },
    {
      "cell_type": "code",
      "source": [
        "joint_cdf = np.array(cdf()).reshape(5,5)\n",
        "fig = plt.figure()\n",
        "ax = fig.add_subplot()\n",
        "x, y = np.meshgrid(x1, x2, indexing='ij')\n",
        "sc = ax.scatter(x.flatten(), y.flatten(), c=joint_cdf.flatten())\n",
        "ax.set_xlabel('X1')\n",
        "ax.set_ylabel('X2')\n",
        "ax.set_title('Joint CDF of X1, X2')\n",
        "fig.colorbar(sc)\n",
        "plt.show()\n"
      ],
      "metadata": {
        "colab": {
          "base_uri": "https://localhost:8080/",
          "height": 472
        },
        "id": "obLHDa6jkUsO",
        "outputId": "a40f5040-e5e4-4889-a4fe-ab2564f8dad1"
      },
      "execution_count": null,
      "outputs": [
        {
          "output_type": "display_data",
          "data": {
            "text/plain": [
              "<Figure size 640x480 with 2 Axes>"
            ],
            "image/png": "[encoded data removed]"
          },
          "metadata": {}
        }
      ]
    },
    {
      "cell_type": "code",
      "source": [
        "print(joint_cdf)"
      ],
      "metadata": {
        "colab": {
          "base_uri": "https://localhost:8080/"
        },
        "id": "TBTcQZO9qm7n",
        "outputId": "83ff4a46-1658-4d89-8174-ff5d174e21eb"
      },
      "execution_count": null,
      "outputs": [
        {
          "output_type": "stream",
          "name": "stdout",
          "text": [
            "[[0.04 0.08 0.12 0.16 0.2 ]\n",
            " [0.08 0.16 0.24 0.32 0.4 ]\n",
            " [0.12 0.24 0.36 0.48 0.6 ]\n",
            " [0.16 0.32 0.48 0.64 0.8 ]\n",
            " [0.2  0.4  0.6  0.8  1.  ]]\n"
          ]
        }
      ]
    },
    {
      "cell_type": "code",
      "source": [
        "def compare_tuples(t1, t2):\n",
        "    for a, b in zip(t1, t2):\n",
        "        if a < b:\n",
        "            return False\n",
        "    return True\n",
        "def alg():\n",
        "  k=0\n",
        "  E = []\n",
        "  threshold = 0.9\n",
        "\n",
        "\n",
        "  z1j1 = 0\n",
        "  z2j2 = 0\n",
        "  z3j3 = 0\n",
        "  min_value1 = np.inf\n",
        "  min_value2 = np.inf\n",
        "  min_value3 = np.inf\n",
        "  min_value4 = np.inf\n",
        "  for i in range(len(x1)):\n",
        "    if joint_cdf[i][4] >= threshold and joint_cdf[i][4] < min_value1:\n",
        "      z1j1 = i\n",
        "      min_value1 = joint_cdf[i][4]\n",
        "  for i in range(len(x2)):\n",
        "    if joint_cdf[z1j1][i] >= threshold and joint_cdf[z1j1][i] < min_value2:\n",
        "      print('i found a point called',(z1j1,i),'with prob.',joint_cdf[z1j1][i],'which means the values of z1= ',x1[z1j1],'z2= ',(x2[i]))\n",
        "      z2j2 = i\n",
        "      min_value2 = joint_cdf[z1j1][z2j2]\n",
        "  my_tuple = (z1j1,z2j2)\n",
        "  E.append(my_tuple)\n",
        "  print(E)\n",
        "  k = k+1\n",
        "  while z1j1 + k <= 5 and z1j1 + k < len(x1):\n",
        "    for i in range(len(x2)):\n",
        "      if joint_cdf[z1j1 + k][i] >= threshold and (z1j1 + k, i) not in E:\n",
        "        should_add = True\n",
        "        for elem in E:\n",
        "          if compare_tuples((z1j1 + k, i), elem):\n",
        "            should_add = False\n",
        "        if should_add:\n",
        "          E.append((z1j1 + k, i))\n",
        "    k += 1\n",
        "\n",
        "  return E\n",
        "func_value = alg()\n",
        "for i in func_value:\n",
        "  print('i found a point called',i,'with prob.',joint_cdf[i[0]][i[1]],'which means the values of z1= ',x1[i[0]],'z2= ',(x2[i[1]]))\n"
      ],
      "metadata": {
        "id": "5fOXMJO_t0y5",
        "colab": {
          "base_uri": "https://localhost:8080/"
        },
        "outputId": "3344f74e-76cd-4563-c614-d99aeb6af2ae"
      },
      "execution_count": null,
      "outputs": [
        {
          "output_type": "stream",
          "name": "stdout",
          "text": [
            "i found a point called (4, 4) with prob. 1.0000000000000007 which means the values of z1=  70 z2=  70\n",
            "[(4, 4)]\n",
            "i found a point called (4, 4) with prob. 1.0000000000000007 which means the values of z1=  70 z2=  70\n"
          ]
        }
      ]
    },
    {
      "cell_type": "code",
      "source": [
        "def compare_tuples(t1, t2):\n",
        "    for a, b in zip(t1, t2):\n",
        "        if a < b:\n",
        "            return False\n",
        "    return True\n",
        "\n",
        "compare_tuples((4,1),(4,0))"
      ],
      "metadata": {
        "colab": {
          "base_uri": "https://localhost:8080/"
        },
        "id": "n1cDsTTHbiDe",
        "outputId": "c6d4736b-a268-48e7-d81f-63a7298e57b0"
      },
      "execution_count": null,
      "outputs": [
        {
          "output_type": "execute_result",
          "data": {
            "text/plain": [
              "True"
            ]
          },
          "metadata": {},
          "execution_count": 26
        }
      ]
    }
  ]
}